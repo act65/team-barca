{
 "cells": [
  {
   "cell_type": "code",
   "execution_count": 5,
   "metadata": {},
   "outputs": [],
   "source": [
    "import tensorflow as tf\n",
    "tf.enable_eager_execution()"
   ]
  },
  {
   "cell_type": "code",
   "execution_count": null,
   "metadata": {},
   "outputs": [],
   "source": [
    "from concurrent.futures import ThreadPoolExecutor\n",
    "import functools"
   ]
  },
  {
   "cell_type": "code",
   "execution_count": 78,
   "metadata": {},
   "outputs": [
    {
     "data": {
      "text/plain": [
       "<tf.Tensor: id=979, shape=(2, 12), dtype=float32, numpy=\n",
       "array([[ 0.2686407 ,  0.27760425, -0.15348823,  0.4542377 , -0.03909007,\n",
       "        -0.09310319, -1.4964381 ,  0.4523476 , -0.8409841 , -1.6969504 ,\n",
       "        -0.49972126, -0.04047663],\n",
       "       [-0.03217527, -0.18008229,  0.23739257, -0.20665997,  1.7399492 ,\n",
       "        -0.40579495, -0.14870209,  0.9199598 , -0.37035343,  0.29321948,\n",
       "        -1.3538345 , -1.3721434 ]], dtype=float32)>"
      ]
     },
     "execution_count": 78,
     "metadata": {},
     "output_type": "execute_result"
    }
   ],
   "source": [
    "obs = tf.random_normal([2, 10])\n",
    "r = tf.random_normal([2, 1])\n",
    "\n",
    "@threadpool\n",
    "def choose_action(obs, r, fn):\n",
    "    time.sleep(0.1)\n",
    "    return fn(tf.concat([obs, r], axis=1))\n",
    "\n",
    "a = choose_action(obs, r, tf.keras.layers.Dense(12))\n",
    "a.result()"
   ]
  },
  {
   "cell_type": "code",
   "execution_count": 79,
   "metadata": {},
   "outputs": [],
   "source": [
    "_DEFAULT_POOL = ThreadPoolExecutor()\n",
    "\n",
    "def threadpool(f, executor=None):\n",
    "    # from bj0 on SE \n",
    "    # https://stackoverflow.com/questions/6893968/how-to-get-the-return-value-from-a-thread-in-python\n",
    "    @functools.wraps(f)\n",
    "    def wrap(*args, **kwargs):\n",
    "        return (executor or _DEFAULT_POOL).submit(f, *args, **kwargs)\n",
    "\n",
    "    return wrap"
   ]
  },
  {
   "cell_type": "code",
   "execution_count": 80,
   "metadata": {},
   "outputs": [],
   "source": [
    "class Net():\n",
    "    def __init__(self):\n",
    "        self.nn = tf.keras.layers.Dense(12)\n",
    "    \n",
    "        self.old_obs = obs\n",
    "        self.old_r = r\n",
    "        self.action = choose_action(obs, r, self.nn)\n",
    "        \n",
    "    def __call__(self, obs, r):\n",
    "        # NOTE because we dont use this it doesnt block\n",
    "        # and has time to be calculated\n",
    "        self.old_action = self.action.result()  \n",
    "        \n",
    "        self.action = choose_action(obs, r, self.nn)\n",
    "        \n",
    "        self.old_obs = obs\n",
    "        self.old_r = r\n",
    "                \n",
    "        return self.old_action"
   ]
  },
  {
   "cell_type": "code",
   "execution_count": 85,
   "metadata": {},
   "outputs": [
    {
     "name": "stdout",
     "output_type": "stream",
     "text": [
      "0.20319342613220215\n",
      "0.10006284713745117\n",
      "0.10015726089477539\n",
      "0.10016489028930664\n",
      "0.10016107559204102\n",
      "0.1001741886138916\n",
      "0.10023379325866699\n",
      "0.10009264945983887\n",
      "0.10020565986633301\n",
      "0.10016345977783203\n"
     ]
    }
   ],
   "source": [
    "net = Net()\n",
    "for _ in range(10):\n",
    "    obs = tf.random_normal([2, 10])\n",
    "    r = tf.random_normal([2, 1])\n",
    "    \n",
    "    start = time.time()\n",
    "    \n",
    "    a = net(obs, r)\n",
    "#     print(time.time() - start)\n",
    "    time.sleep(0.1)  # time for the env to do something\n",
    "    \n",
    "    print(time.time() - start)"
   ]
  },
  {
   "cell_type": "code",
   "execution_count": null,
   "metadata": {},
   "outputs": [],
   "source": []
  },
  {
   "cell_type": "code",
   "execution_count": null,
   "metadata": {},
   "outputs": [],
   "source": []
  },
  {
   "cell_type": "code",
   "execution_count": null,
   "metadata": {},
   "outputs": [],
   "source": []
  }
 ],
 "metadata": {
  "kernelspec": {
   "display_name": "Python 3",
   "language": "python",
   "name": "python3"
  },
  "language_info": {
   "codemirror_mode": {
    "name": "ipython",
    "version": 3
   },
   "file_extension": ".py",
   "mimetype": "text/x-python",
   "name": "python",
   "nbconvert_exporter": "python",
   "pygments_lexer": "ipython3",
   "version": "3.6.5"
  }
 },
 "nbformat": 4,
 "nbformat_minor": 2
}
